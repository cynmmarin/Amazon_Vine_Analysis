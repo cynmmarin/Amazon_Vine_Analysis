{
  "nbformat": 4,
  "nbformat_minor": 0,
  "metadata": {
    "colab": {
      "name": "Vine_Review_Analysis.ipynb",
      "provenance": [],
      "collapsed_sections": []
    },
    "kernelspec": {
      "name": "python3",
      "display_name": "Python 3"
    },
    "language_info": {
      "name": "python"
    }
  },
  "cells": [
    {
      "cell_type": "code",
      "metadata": {
        "id": "dUbe3xUxveWx",
        "colab": {
          "base_uri": "https://localhost:8080/"
        },
        "outputId": "8cb1788c-d68b-4e24-a39c-57aa7ec8d241"
      },
      "source": [
        "import os\n",
        "# Find the latest version of spark 3.0  from http://www-us.apache.org/dist/spark/ and enter as the spark version\n",
        "# For example:\n",
        "# spark_version = 'spark-3.0.2'\n",
        "spark_version = 'spark-3.1.2'\n",
        "os.environ['SPARK_VERSION']=spark_version\n",
        "\n",
        "# Install Spark and Java\n",
        "!apt-get update\n",
        "!apt-get install openjdk-11-jdk-headless -qq > /dev/null\n",
        "!wget -q http://www.apache.org/dist/spark/$SPARK_VERSION/$SPARK_VERSION-bin-hadoop2.7.tgz\n",
        "!tar xf $SPARK_VERSION-bin-hadoop2.7.tgz\n",
        "!pip install -q findspark\n",
        "\n",
        "# Set Environment Variables\n",
        "import os\n",
        "os.environ[\"JAVA_HOME\"] = \"/usr/lib/jvm/java-11-openjdk-amd64\"\n",
        "os.environ[\"SPARK_HOME\"] = f\"/content/{spark_version}-bin-hadoop2.7\"\n",
        "\n",
        "# Start a SparkSession\n",
        "import findspark\n",
        "findspark.init()"
      ],
      "execution_count": 1,
      "outputs": [
        {
          "output_type": "stream",
          "text": [
            "\r0% [Working]\r            \rGet:1 http://security.ubuntu.com/ubuntu bionic-security InRelease [88.7 kB]\n",
            "\r0% [Connecting to archive.ubuntu.com (91.189.88.152)] [1 InRelease 0 B/88.7 kB \r                                                                               \rGet:2 https://cloud.r-project.org/bin/linux/ubuntu bionic-cran40/ InRelease [3,626 B]\n",
            "Ign:3 https://developer.download.nvidia.com/compute/cuda/repos/ubuntu1804/x86_64  InRelease\n",
            "Get:4 http://ppa.launchpad.net/c2d4u.team/c2d4u4.0+/ubuntu bionic InRelease [15.9 kB]\n",
            "Hit:5 http://archive.ubuntu.com/ubuntu bionic InRelease\n",
            "Ign:6 https://developer.download.nvidia.com/compute/machine-learning/repos/ubuntu1804/x86_64  InRelease\n",
            "Get:7 https://developer.download.nvidia.com/compute/cuda/repos/ubuntu1804/x86_64  Release [697 B]\n",
            "Hit:8 https://developer.download.nvidia.com/compute/machine-learning/repos/ubuntu1804/x86_64  Release\n",
            "Get:9 https://developer.download.nvidia.com/compute/cuda/repos/ubuntu1804/x86_64  Release.gpg [836 B]\n",
            "Get:10 http://archive.ubuntu.com/ubuntu bionic-updates InRelease [88.7 kB]\n",
            "Hit:11 http://ppa.launchpad.net/cran/libgit2/ubuntu bionic InRelease\n",
            "Get:12 https://cloud.r-project.org/bin/linux/ubuntu bionic-cran40/ Packages [62.9 kB]\n",
            "Hit:13 http://ppa.launchpad.net/deadsnakes/ppa/ubuntu bionic InRelease\n",
            "Get:14 http://archive.ubuntu.com/ubuntu bionic-backports InRelease [74.6 kB]\n",
            "Get:15 http://ppa.launchpad.net/graphics-drivers/ppa/ubuntu bionic InRelease [21.3 kB]\n",
            "Get:16 http://security.ubuntu.com/ubuntu bionic-security/restricted amd64 Packages [510 kB]\n",
            "Get:17 http://security.ubuntu.com/ubuntu bionic-security/multiverse amd64 Packages [26.7 kB]\n",
            "Get:18 http://security.ubuntu.com/ubuntu bionic-security/main amd64 Packages [2,263 kB]\n",
            "Get:19 http://security.ubuntu.com/ubuntu bionic-security/universe amd64 Packages [1,420 kB]\n",
            "Ign:21 https://developer.download.nvidia.com/compute/cuda/repos/ubuntu1804/x86_64  Packages\n",
            "Get:21 https://developer.download.nvidia.com/compute/cuda/repos/ubuntu1804/x86_64  Packages [695 kB]\n",
            "Get:22 http://ppa.launchpad.net/c2d4u.team/c2d4u4.0+/ubuntu bionic/main Sources [1,786 kB]\n",
            "Get:23 http://archive.ubuntu.com/ubuntu bionic-updates/main amd64 Packages [2,698 kB]\n",
            "Get:24 http://ppa.launchpad.net/c2d4u.team/c2d4u4.0+/ubuntu bionic/main amd64 Packages [914 kB]\n",
            "Get:25 http://archive.ubuntu.com/ubuntu bionic-updates/multiverse amd64 Packages [39.4 kB]\n",
            "Get:26 http://archive.ubuntu.com/ubuntu bionic-updates/universe amd64 Packages [2,195 kB]\n",
            "Get:27 http://archive.ubuntu.com/ubuntu bionic-updates/restricted amd64 Packages [544 kB]\n",
            "Get:28 http://ppa.launchpad.net/graphics-drivers/ppa/ubuntu bionic/main amd64 Packages [44.1 kB]\n",
            "Fetched 13.5 MB in 5s (2,739 kB/s)\n",
            "Reading package lists... Done\n"
          ],
          "name": "stdout"
        }
      ]
    },
    {
      "cell_type": "code",
      "metadata": {
        "id": "9MMKxFlPvirp"
      },
      "source": [
        "from pyspark.sql import SparkSession\n",
        "spark = SparkSession.builder.appName(\"BigData-Challenge\").config(\"spark.driver.extraClassPath\",\"/content/postgresql-42.2.16.jar\").getOrCreate()"
      ],
      "execution_count": 2,
      "outputs": []
    },
    {
      "cell_type": "code",
      "metadata": {
        "id": "iaqARd_mvu6A",
        "colab": {
          "base_uri": "https://localhost:8080/"
        },
        "outputId": "e9a66a6b-4150-4bf6-b460-413ef066047e"
      },
      "source": [
        "from pyspark import SparkFiles\n",
        "url = \"https://s3.amazonaws.com/amazon-reviews-pds/tsv/amazon_reviews_us_Toys_v1_00.tsv.gz\"\n",
        "spark.sparkContext.addFile(url)\n",
        "df = spark.read.option(\"encoding\", \"UTF-8\").csv(SparkFiles.get(\"\"), sep=\"\\t\", header=True, inferSchema=True)\n",
        "df.show()"
      ],
      "execution_count": 3,
      "outputs": [
        {
          "output_type": "stream",
          "text": [
            "+-----------+-----------+--------------+----------+--------------+--------------------+----------------+-----------+-------------+-----------+----+-----------------+--------------------+--------------------+-----------+\n",
            "|marketplace|customer_id|     review_id|product_id|product_parent|       product_title|product_category|star_rating|helpful_votes|total_votes|vine|verified_purchase|     review_headline|         review_body|review_date|\n",
            "+-----------+-----------+--------------+----------+--------------+--------------------+----------------+-----------+-------------+-----------+----+-----------------+--------------------+--------------------+-----------+\n",
            "|         US|   18778586| RDIJS7QYB6XNR|B00EDBY7X8|     122952789|Monopoly Junior B...|            Toys|          5|            0|          0|   N|                Y|          Five Stars|        Excellent!!!| 2015-08-31|\n",
            "|         US|   24769659|R36ED1U38IELG8|B00D7JFOPC|     952062646|56 Pieces of Wood...|            Toys|          5|            0|          0|   N|                Y|Good quality trac...|Great quality woo...| 2015-08-31|\n",
            "|         US|   44331596| R1UE3RPRGCOLD|B002LHA74O|     818126353|Super Jumbo Playi...|            Toys|          2|            1|          1|   N|                Y|           Two Stars|Cards are not as ...| 2015-08-31|\n",
            "|         US|   23310293|R298788GS6I901|B00ARPLCGY|     261944918|Barbie Doll and F...|            Toys|          5|            0|          0|   N|                Y|my daughter loved...|my daughter loved...| 2015-08-31|\n",
            "|         US|   38745832|  RNX4EXOBBPN5|B00UZOPOFW|     717410439|Emazing Lights eL...|            Toys|          1|            1|          1|   N|                Y|     DONT BUY THESE!|Do not buy these!...| 2015-08-31|\n",
            "|         US|   13394189|R3BPETL222LMIM|B009B7F6CA|     873028700|Melissa & Doug Wa...|            Toys|          5|            0|          0|   N|                Y|          Five Stars|Great item. Pictu...| 2015-08-31|\n",
            "|         US|    2749569|R3SORMPJZO3F2J|B0101EHRSM|     723424342|Big Bang Cosmic P...|            Toys|          3|            2|          2|   N|                Y|         Three Stars|To keep together,...| 2015-08-31|\n",
            "|         US|   41137196|R2RDOJQ0WBZCF6|B00407S11Y|     383363775|Fun Express Insec...|            Toys|          5|            0|          0|   N|                Y|          Five Stars|I was pleased wit...| 2015-08-31|\n",
            "|         US|     433677|R2B8VBEPB4YEZ7|B00FGPU7U2|     780517568|Fisher-Price Octo...|            Toys|          5|            0|          0|   N|                Y|          Five Stars|    Children like it| 2015-08-31|\n",
            "|         US|    1297934|R1CB783I7B0U52|B0013OY0S0|     269360126|Claw Climber Goli...|            Toys|          1|            0|          1|   N|                Y|Shame on the sell...|Showed up not how...| 2015-08-31|\n",
            "|         US|   52006292| R2D90RQQ3V8LH|B00519PJTW|     493486387|100 Foot Multicol...|            Toys|          5|            0|          0|   N|                Y|          Five Stars|Really liked thes...| 2015-08-31|\n",
            "|         US|   32071052|R1Y4ZOUGFMJ327|B001TCY2DO|     459122467|Pig Jumbo Foil Ba...|            Toys|          5|            0|          0|   N|                Y|   Nice huge balloon|Nice huge balloon...| 2015-08-31|\n",
            "|         US|    7360347|R2BUV9QJI2A00X|B00DOQCWF8|     226984155|Minecraft Animal ...|            Toys|          5|            0|          1|   N|                Y|          Five Stars|          Great deal| 2015-08-31|\n",
            "|         US|   11613707| RSUHRJFJIRB3Z|B004C04I4I|     375659886|Disney Baby: Eeyo...|            Toys|          4|            0|          0|   N|                Y|          Four Stars|       As Advertised| 2015-08-31|\n",
            "|         US|   13545982|R1T96CG98BBA15|B00NWGEKBY|     933734136|Team Losi 8IGHT-E...|            Toys|          3|            2|          4|   N|                Y|... servo so expe...|Comes w a 15$ ser...| 2015-08-31|\n",
            "|         US|   43880421| R2ATXF4QQ30YW|B00000JS5S|     341842639|Hot Wheels 48- Ca...|            Toys|          5|            0|          0|   N|                Y|          Five Stars|   awesome ! Thanks!| 2015-08-31|\n",
            "|         US|    1662075|R1YS3DS218NNMD|B00XPWXYDK|     210135375|ZuZo 2.4GHz 4 CH ...|            Toys|          5|            4|          4|   N|                N|The closest relev...|I got this item f...| 2015-08-31|\n",
            "|         US|   18461411|R2SDXLTLF92O0H|B00VPXX92W|     705054378|Teenage Mutant Ni...|            Toys|          5|            0|          0|   N|                Y|          Five Stars|It was a birthday...| 2015-08-31|\n",
            "|         US|   27225859| R4R337CCDWLNG|B00YRA3H4U|     223420727|Franklin Sports M...|            Toys|          3|            0|          1|   Y|                N|Got wrong product...|Got a wrong produ...| 2015-08-31|\n",
            "|         US|   20494593|R32Z6UA4S5Q630|B009T8BSQY|     787701676|Alien Frontiers: ...|            Toys|          1|            0|          0|   N|                Y|         Overpriced.|You need expansio...| 2015-08-31|\n",
            "+-----------+-----------+--------------+----------+--------------+--------------------+----------------+-----------+-------------+-----------+----+-----------------+--------------------+--------------------+-----------+\n",
            "only showing top 20 rows\n",
            "\n"
          ],
          "name": "stdout"
        }
      ]
    },
    {
      "cell_type": "code",
      "metadata": {
        "id": "St9j_cqNvyvx"
      },
      "source": [
        "# Filter the data and create a new DataFrame or table to retrieve all the rows where the total_votes count is equal to or greater than 20 \n",
        "vine_df = df.select([\"review_id\",\"star_rating\",\"helpful_votes\",\"total_votes\",\"vine\",\"verified_purchase\"])\n",
        "vote_count = df.filter(\"total_votes >= 20\")"
      ],
      "execution_count": 4,
      "outputs": []
    },
    {
      "cell_type": "code",
      "metadata": {
        "id": "6VM2A4UXzqXK",
        "colab": {
          "base_uri": "https://localhost:8080/"
        },
        "outputId": "c0e4ec88-5f8d-40fc-80ff-883d96e798b1"
      },
      "source": [
        "# Create a new DataFrame or table to retrieve all the rows where the number of helpful_votes divided by total_votes is equal to or greater than 50%.\n",
        "new_table = vote_count.filter(vote_count[\"helpful_votes\"]/vote_count[\"total_votes\"]>=0.5)\n",
        "new_table.show()"
      ],
      "execution_count": 5,
      "outputs": [
        {
          "output_type": "stream",
          "text": [
            "+-----------+-----------+--------------+----------+--------------+--------------------+----------------+-----------+-------------+-----------+----+-----------------+--------------------+--------------------+-----------+\n",
            "|marketplace|customer_id|     review_id|product_id|product_parent|       product_title|product_category|star_rating|helpful_votes|total_votes|vine|verified_purchase|     review_headline|         review_body|review_date|\n",
            "+-----------+-----------+--------------+----------+--------------+--------------------+----------------+-----------+-------------+-----------+----+-----------------+--------------------+--------------------+-----------+\n",
            "|         US|   11025729| ROP6ITXO8K5V2|B00LE9MZMW|     778942419|YJ Moyu 13x13x13 ...|            Toys|          5|           23|         27|   N|                Y|          Five Stars|Great cube, moves...| 2015-08-31|\n",
            "|         US|   50123725|R3ND1LVU7AXCVF|B00LOV24VC|     363255349|Marshmallow Furni...|            Toys|          1|           21|         21|   N|                Y|If you want a qua...|i bought this cha...| 2015-08-31|\n",
            "|         US|   53067113| R9I5FOLKU99RY|B00U1KA12G|     278300201|Qixels S1 Turbo D...|            Toys|          5|           19|         20|   Y|                N|11 Year Old Loves...|My daughter who i...| 2015-08-31|\n",
            "|         US|   44167324|R1QS8AOD6HX3ED|B011BWUDGG|     501779560|Leray Self Balanc...|            Toys|          4|           59|         81|   N|                N|   Solid warranty...|[[VIDEOID:164d1b1...| 2015-08-31|\n",
            "|         US|   44759540|R3ED60RC69CCQ6|B00VJKTLMS|     917726757|Fisher-Price Nick...|            Toys|          5|           22|         23|   Y|                N|Lots of fun if yo...|This toy is a kno...| 2015-08-31|\n",
            "|         US|   43450674|R2JM687C525WR9|B00KH6BQJG|     116308869|OgoSport OgoBild ...|            Toys|          3|           33|         33|   Y|                N|Not bad, but we t...|cWe've had the Hu...| 2015-08-31|\n",
            "|         US|   38209184|R2LWX4TZ67FWPT|B00IYOCSE0|     825711912|Flexible Flyer Pl...|            Toys|          4|           50|         50|   N|                N|its a great swing...|its a great swing...| 2015-08-31|\n",
            "|         US|    7719843|R29IYHPYD14AGI|B000F3V2MW|     253592398|ALEX Toys Craft M...|            Toys|          3|           84|         84|   N|                Y|    preteen projects|I purchased this ...| 2015-08-31|\n",
            "|         US|   32035019|R1F2I723WRK5QV|B00YU88U6O|     480317972|SueSport 4-way Tu...|            Toys|          5|           20|         20|   N|                Y| Great for big cats!|Bought this for m...| 2015-08-31|\n",
            "|         US|   21817391| RRO8C1IVZMD6H|B011KD5CGW|     984270738|Playskool Heroes ...|            Toys|          5|           22|         22|   N|                N|Rescan line is sm...|When buying rescu...| 2015-08-31|\n",
            "|         US|   16379976|R2GHOWIWDVLN18|B00X9JDPYC|     681351265|UDI HD+ Drone wit...|            Toys|          1|           28|         36|   N|                Y|            One Star|The damn thing fl...| 2015-08-31|\n",
            "|         US|   28820853|R30PJ9XUHFTY5D|B003VYAJMG|     103705238|Little Tikes Bold...|            Toys|          5|           42|         43|   N|                N|My Granddaughter ...|My 18 month old g...| 2015-08-31|\n",
            "|         US|    9988621|R2F7D9N3SSQC20|B00YI1CHHG|     150124290|CloudPets 12in - ...|            Toys|          4|           32|         34|   N|                N|My daughter and I...|This bear is incr...| 2015-08-31|\n",
            "|         US|   27803490| RN4VK9FV66YPS|B00WJ1O76G|     701543085|LeapFrog Number L...|            Toys|          5|           29|         33|   N|                N|         LOVE THIS!!|[[VIDEOID:9050e95...| 2015-08-31|\n",
            "|         US|   50970965|R18T8SFBDXAKSY|B002TLDRI0|     198159965|JIGBOARD 1500 - J...|            Toys|          5|           95|         95|   N|                Y|Love it. With fiv...|Love it.  With fi...| 2015-08-31|\n",
            "|         US|    8109655|R36SKVJXZ0I98A|8499000606|     536492553|Syma S107/S107G R...|            Toys|          5|          124|        127|   N|                N|Nice, light weigh...|The Syma Helicopt...| 2015-08-31|\n",
            "|         US|     182750|R3PAIHQSO707G4|B010TU7LP2|       3331341|Exploding Kittens...|            Toys|          5|          189|        221|   N|                N|NSFW = NOT SAFE F...|Exploding Kittens...| 2015-08-31|\n",
            "|         US|    1449184|R2TETIV0IVWFSJ|B008R67UKM|     775534268|Good cosplay stra...|            Toys|          4|           80|         82|   N|                Y|and fits nicely. ...|Well constructed,...| 2015-08-31|\n",
            "|         US|    6105658|R1VBVD23GPZW0E|B00YSWUDGM|     412449765|100 Assorted Poke...|            Toys|          5|           55|         58|   N|                Y|So that was prett...|Came in a brown b...| 2015-08-31|\n",
            "|         US|   48638849|R1AJKXVHURPVCZ|B00DCENMWY|     376397735|Mice and Mystics:...|            Toys|          3|           12|         22|   N|                Y|Lacking in produc...|Keeping everythin...| 2015-08-31|\n",
            "+-----------+-----------+--------------+----------+--------------+--------------------+----------------+-----------+-------------+-----------+----+-----------------+--------------------+--------------------+-----------+\n",
            "only showing top 20 rows\n",
            "\n"
          ],
          "name": "stdout"
        }
      ]
    },
    {
      "cell_type": "code",
      "metadata": {
        "id": "HBMJgzafzHWa",
        "colab": {
          "base_uri": "https://localhost:8080/"
        },
        "outputId": "77d61b04-bb87-4dee-e017-cf3b2b9a779d"
      },
      "source": [
        "# Create a new DataFrame or table that retrieves all the rows where a review was written as part of the Vine program (paid), vine == 'Y'\n",
        "new_table.filter(new_table[\"vine\"] == \"Y\").show()"
      ],
      "execution_count": 6,
      "outputs": [
        {
          "output_type": "stream",
          "text": [
            "+-----------+-----------+--------------+----------+--------------+--------------------+----------------+-----------+-------------+-----------+----+-----------------+--------------------+--------------------+-----------+\n",
            "|marketplace|customer_id|     review_id|product_id|product_parent|       product_title|product_category|star_rating|helpful_votes|total_votes|vine|verified_purchase|     review_headline|         review_body|review_date|\n",
            "+-----------+-----------+--------------+----------+--------------+--------------------+----------------+-----------+-------------+-----------+----+-----------------+--------------------+--------------------+-----------+\n",
            "|         US|   53067113| R9I5FOLKU99RY|B00U1KA12G|     278300201|Qixels S1 Turbo D...|            Toys|          5|           19|         20|   Y|                N|11 Year Old Loves...|My daughter who i...| 2015-08-31|\n",
            "|         US|   44759540|R3ED60RC69CCQ6|B00VJKTLMS|     917726757|Fisher-Price Nick...|            Toys|          5|           22|         23|   Y|                N|Lots of fun if yo...|This toy is a kno...| 2015-08-31|\n",
            "|         US|   43450674|R2JM687C525WR9|B00KH6BQJG|     116308869|OgoSport OgoBild ...|            Toys|          3|           33|         33|   Y|                N|Not bad, but we t...|cWe've had the Hu...| 2015-08-31|\n",
            "|         US|   45716675| RUB4AUWGHG16G|B00T03U0OO|     754581011|Disney Frozen Els...|            Toys|          4|           25|         27|   Y|                N|and of course lit...|This might be the...| 2015-08-30|\n",
            "|         US|   52221911|R1S3IDYJUA6V2G|B00U5UH9CC|     205348267|FurReal Friends J...|            Toys|          5|           28|         32|   Y|                N|Video Shows It Be...|[[VIDEOID:b560180...| 2015-08-27|\n",
            "|         US|   49620639| RZFLN8FD5Y2M6|B00TF8Z7ZG|     552869173|Thames & Kosmos R...|            Toys|          4|           25|         28|   Y|                N|    A good challenge|This was a bit fr...| 2015-08-27|\n",
            "|         US|   26903314|R1V8NDXD9SETO5|B00SOG4W56|     133690318|FurReal Friends S...|            Toys|          3|          320|        352|   Y|                N|In our opinion, n...|Don't get me wron...| 2015-08-27|\n",
            "|         US|   49161703|R2H4VEFWHP50M3|B00UPAYYCA|     626860150|Chrono Bomb Original|            Toys|          5|           26|         36|   Y|                N|FANTASTIC GAME!!!...|This is an awesom...| 2015-08-27|\n",
            "|         US|   27140716|R3DP6Y0A8WXUOV|B00V3DHJC0|     663413144|My First Lab Mini...|            Toys|          5|           21|         21|   Y|                N|Outstanding!  A r...|My First Lab Mini...| 2015-08-26|\n",
            "|         US|   35391116| R49L85GZIKH4D|1601257457|     505075355|Pathfinder Advent...|            Toys|          3|           33|         36|   Y|                N|Fun and better th...|I was kind of sur...| 2015-08-26|\n",
            "|         US|   48357724| R2RQKWRUS11DZ|B00TVIFZ1Q|     901252756|Nerf Rebelle Secr...|            Toys|          5|           18|         20|   Y|                N|KID-TESTED!  5 ki...|UPDATE on Nov 30,...| 2015-08-25|\n",
            "|         US|   46693594| RZL7TPXLJPR2Z|B00VJKTFYW|     748575702|Fisher-Price Thom...|            Toys|          4|           19|         20|   Y|                N|Your cat will hat...|I have a four yea...| 2015-08-25|\n",
            "|         US|   47107073|R34JSTH01HK1J8|B00T03U0OO|     754581011|Disney Frozen Els...|            Toys|          4|           75|         80|   Y|                N|          Ice Palace|[[VIDEOID:2e52e58...| 2015-08-25|\n",
            "|         US|   50116247|R1OI8PAJW4MWUY|B00QKLLC1O|     146052104|Schleich Dragon F...|            Toys|          5|           20|         20|   Y|                N|Another high qual...|Schleich is a Ger...| 2015-08-25|\n",
            "|         US|   47030935|R1RXSJILN39UY1|B00VJKT0QU|     660207223|Fisher-Price Brig...|            Toys|          5|           48|         53|   Y|                N| Lights, music, fun!|I ordered this to...| 2015-08-24|\n",
            "|         US|   34571698| R79XS8S5EYX59|B00T0GY3U8|     977011021|Dimension: The Sp...|            Toys|          3|           20|         22|   Y|                N|A very original g...|Over the past two...| 2015-08-24|\n",
            "|         US|   20047667|R24STRS5M3QEXQ|B00U26LQDC|      28745879|Mega Bloks First ...|            Toys|          5|           60|         65|   Y|                N|Mega Bloks First ...|A must have toy f...| 2015-08-24|\n",
            "|         US|   45378171|R15HJU8XNX1XG1|B00XUZH8DE|     501465614|VTech Go! Go! Sma...|            Toys|          4|           25|         26|   Y|                N|Excellent product...|The VTech Go! Go!...| 2015-08-23|\n",
            "|         US|   52008531|R1NMYF3BJM72A0|B00PNAGN7Q|     236099298|Moose Toys Chocol...|            Toys|          4|           57|         60|   Y|                N|A Fun Afternoon o...|So many people th...| 2015-08-23|\n",
            "|         US|   49129501| R8XSDH6E6YWMX|B00UCWQMZ8|     738713791|Laugh & Learn Sma...|            Toys|          4|           22|         24|   Y|                N|    Good For Infants|This is a cute, e...| 2015-08-23|\n",
            "+-----------+-----------+--------------+----------+--------------+--------------------+----------------+-----------+-------------+-----------+----+-----------------+--------------------+--------------------+-----------+\n",
            "only showing top 20 rows\n",
            "\n"
          ],
          "name": "stdout"
        }
      ]
    },
    {
      "cell_type": "code",
      "metadata": {
        "id": "DfgKZLDDzR-V",
        "colab": {
          "base_uri": "https://localhost:8080/"
        },
        "outputId": "165b0dbf-098c-4ff8-f6bb-077fe222990e"
      },
      "source": [
        "# Create a new DataFrame or table that retrieves all the rows where a review was written as part of the Vine program (unpaid), vine == 'N'\n",
        "new_table.filter(new_table[\"vine\"] == \"N\").show()"
      ],
      "execution_count": 7,
      "outputs": [
        {
          "output_type": "stream",
          "text": [
            "+-----------+-----------+--------------+----------+--------------+--------------------+----------------+-----------+-------------+-----------+----+-----------------+--------------------+--------------------+-----------+\n",
            "|marketplace|customer_id|     review_id|product_id|product_parent|       product_title|product_category|star_rating|helpful_votes|total_votes|vine|verified_purchase|     review_headline|         review_body|review_date|\n",
            "+-----------+-----------+--------------+----------+--------------+--------------------+----------------+-----------+-------------+-----------+----+-----------------+--------------------+--------------------+-----------+\n",
            "|         US|   11025729| ROP6ITXO8K5V2|B00LE9MZMW|     778942419|YJ Moyu 13x13x13 ...|            Toys|          5|           23|         27|   N|                Y|          Five Stars|Great cube, moves...| 2015-08-31|\n",
            "|         US|   50123725|R3ND1LVU7AXCVF|B00LOV24VC|     363255349|Marshmallow Furni...|            Toys|          1|           21|         21|   N|                Y|If you want a qua...|i bought this cha...| 2015-08-31|\n",
            "|         US|   44167324|R1QS8AOD6HX3ED|B011BWUDGG|     501779560|Leray Self Balanc...|            Toys|          4|           59|         81|   N|                N|   Solid warranty...|[[VIDEOID:164d1b1...| 2015-08-31|\n",
            "|         US|   38209184|R2LWX4TZ67FWPT|B00IYOCSE0|     825711912|Flexible Flyer Pl...|            Toys|          4|           50|         50|   N|                N|its a great swing...|its a great swing...| 2015-08-31|\n",
            "|         US|    7719843|R29IYHPYD14AGI|B000F3V2MW|     253592398|ALEX Toys Craft M...|            Toys|          3|           84|         84|   N|                Y|    preteen projects|I purchased this ...| 2015-08-31|\n",
            "|         US|   32035019|R1F2I723WRK5QV|B00YU88U6O|     480317972|SueSport 4-way Tu...|            Toys|          5|           20|         20|   N|                Y| Great for big cats!|Bought this for m...| 2015-08-31|\n",
            "|         US|   21817391| RRO8C1IVZMD6H|B011KD5CGW|     984270738|Playskool Heroes ...|            Toys|          5|           22|         22|   N|                N|Rescan line is sm...|When buying rescu...| 2015-08-31|\n",
            "|         US|   16379976|R2GHOWIWDVLN18|B00X9JDPYC|     681351265|UDI HD+ Drone wit...|            Toys|          1|           28|         36|   N|                Y|            One Star|The damn thing fl...| 2015-08-31|\n",
            "|         US|   28820853|R30PJ9XUHFTY5D|B003VYAJMG|     103705238|Little Tikes Bold...|            Toys|          5|           42|         43|   N|                N|My Granddaughter ...|My 18 month old g...| 2015-08-31|\n",
            "|         US|    9988621|R2F7D9N3SSQC20|B00YI1CHHG|     150124290|CloudPets 12in - ...|            Toys|          4|           32|         34|   N|                N|My daughter and I...|This bear is incr...| 2015-08-31|\n",
            "|         US|   27803490| RN4VK9FV66YPS|B00WJ1O76G|     701543085|LeapFrog Number L...|            Toys|          5|           29|         33|   N|                N|         LOVE THIS!!|[[VIDEOID:9050e95...| 2015-08-31|\n",
            "|         US|   50970965|R18T8SFBDXAKSY|B002TLDRI0|     198159965|JIGBOARD 1500 - J...|            Toys|          5|           95|         95|   N|                Y|Love it. With fiv...|Love it.  With fi...| 2015-08-31|\n",
            "|         US|    8109655|R36SKVJXZ0I98A|8499000606|     536492553|Syma S107/S107G R...|            Toys|          5|          124|        127|   N|                N|Nice, light weigh...|The Syma Helicopt...| 2015-08-31|\n",
            "|         US|     182750|R3PAIHQSO707G4|B010TU7LP2|       3331341|Exploding Kittens...|            Toys|          5|          189|        221|   N|                N|NSFW = NOT SAFE F...|Exploding Kittens...| 2015-08-31|\n",
            "|         US|    1449184|R2TETIV0IVWFSJ|B008R67UKM|     775534268|Good cosplay stra...|            Toys|          4|           80|         82|   N|                Y|and fits nicely. ...|Well constructed,...| 2015-08-31|\n",
            "|         US|    6105658|R1VBVD23GPZW0E|B00YSWUDGM|     412449765|100 Assorted Poke...|            Toys|          5|           55|         58|   N|                Y|So that was prett...|Came in a brown b...| 2015-08-31|\n",
            "|         US|   48638849|R1AJKXVHURPVCZ|B00DCENMWY|     376397735|Mice and Mystics:...|            Toys|          3|           12|         22|   N|                Y|Lacking in produc...|Keeping everythin...| 2015-08-31|\n",
            "|         US|   12153405|R2QDNZYVEX9X14|B00TOVMXW4|     559725484|Playskool Heroes ...|            Toys|          2|           18|         20|   N|                N|More junk from Re...|Any parent famili...| 2015-08-31|\n",
            "|         US|   29775971|R32RD311POLW7G|B00IEH9FQG|     303166933|KidKraft Airplane...|            Toys|          3|           25|         27|   N|                Y|Adorable but asse...|Aesthetically, th...| 2015-08-30|\n",
            "|         US|   35208712|R1VXO073B9HOGC|B0033JB3UG|     676646525| Buttercup Dollhouse|            Toys|          4|           29|         30|   N|                Y|Cute little doll ...|You have to prep ...| 2015-08-30|\n",
            "+-----------+-----------+--------------+----------+--------------+--------------------+----------------+-----------+-------------+-----------+----+-----------------+--------------------+--------------------+-----------+\n",
            "only showing top 20 rows\n",
            "\n"
          ],
          "name": "stdout"
        }
      ]
    },
    {
      "cell_type": "code",
      "metadata": {
        "id": "1_yCb0DCwNyu",
        "colab": {
          "base_uri": "https://localhost:8080/"
        },
        "outputId": "1271f969-6efb-49a3-a842-47417c7765a2"
      },
      "source": [
        "# Determine the total number of reviews, the number of 5-star reviews\n",
        "five_star = new_table.filter(new_table[\"star_rating\"]== 5)\n",
        "five_star.cache()\n",
        "five_star.count()"
      ],
      "execution_count": 8,
      "outputs": [
        {
          "output_type": "execute_result",
          "data": {
            "text/plain": [
              "30414"
            ]
          },
          "metadata": {
            "tags": []
          },
          "execution_count": 8
        }
      ]
    },
    {
      "cell_type": "code",
      "metadata": {
        "id": "d2ebYPOw1Wp_",
        "colab": {
          "base_uri": "https://localhost:8080/"
        },
        "outputId": "4bba7d7f-351d-4700-ac17-c49fbe95a1da"
      },
      "source": [
        "# Determine the percentage of 5-star reviews for paid reviews\n",
        "five_star.filter(five_star[\"verified_purchase\"] == \"Y\").count()/new_table.filter(new_table[\"verified_purchase\"]== \"Y\").count()"
      ],
      "execution_count": 9,
      "outputs": [
        {
          "output_type": "execute_result",
          "data": {
            "text/plain": [
              "0.48419700503667645"
            ]
          },
          "metadata": {
            "tags": []
          },
          "execution_count": 9
        }
      ]
    },
    {
      "cell_type": "code",
      "metadata": {
        "id": "WXvFgMHl1iSq",
        "colab": {
          "base_uri": "https://localhost:8080/"
        },
        "outputId": "e8ecca64-a608-41a2-fe33-71329f75da63"
      },
      "source": [
        "# Determine the percentage of 5-star reviews for unpaid reviews\n",
        "five_star.filter(five_star[\"verified_purchase\"] == \"N\").count()/new_table.filter(new_table[\"verified_purchase\"]== \"N\").count()"
      ],
      "execution_count": 10,
      "outputs": [
        {
          "output_type": "execute_result",
          "data": {
            "text/plain": [
              "0.4772922784847676"
            ]
          },
          "metadata": {
            "tags": []
          },
          "execution_count": 10
        }
      ]
    }
  ]
}